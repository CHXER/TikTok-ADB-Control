{
 "cells": [
  {
   "cell_type": "code",
   "execution_count": 18,
   "metadata": {},
   "outputs": [
    {
     "name": "stderr",
     "output_type": "stream",
     "text": [
      "* daemon not running; starting now at tcp:5037\n"
     ]
    },
    {
     "name": "stdout",
     "output_type": "stream",
     "text": [
      "List of devices attached\n",
      "FA7981A10296\tdevice\n",
      "FA79C1A03546\tdevice\n",
      "FA7AR1A00090\tdevice\n",
      "FA7AR1A06690\tdevice\n",
      "FA7AY1A03300\tdevice\n",
      "FA7B11A05410\tdevice\n",
      "FA7B81A02905\tdevice\n",
      "FA7BS1A01242\tdevice\n",
      "FA8191A02532\tdevice\n",
      "FA81S1A02788\tdevice\n",
      "FA81T1A00545\tdevice\n",
      "FA81V1A00444\tdevice\n",
      "FA8251A00744\tdevice\n",
      "FA8281A00672\tdevice\n",
      "HT7A61A00452\tdevice\n",
      "HT7B11A01104\tdevice\n",
      "HT7B61A04709\tdevice\n",
      "HT7C61A04994\tdevice\n",
      "HT7C61A06443\tdevice\n",
      "HT8191A00307\tdevice\n",
      "HT8191A02068\tdevice\n",
      "HT81A1A00339\tdevice\n",
      "HT8221A01014\tdevice\n",
      "HT82C1A02048\tdevice\n",
      "HT83G1A00014\tdevice\n",
      "HT83M1A04115\tdevice\n",
      "HT8571A02153\tdevice\n",
      "HT8611A04012\tdevice\n",
      "RF8M20DCVVN\tunauthorized\n",
      "\n"
     ]
    },
    {
     "name": "stderr",
     "output_type": "stream",
     "text": [
      "* daemon started successfully\n"
     ]
    },
    {
     "data": {
      "text/plain": [
       "0"
      ]
     },
     "execution_count": 18,
     "metadata": {},
     "output_type": "execute_result"
    }
   ],
   "source": [
    "# ADB初始化\n",
    "\n",
    "devices = ['','FA8251A00744','FA7981A10296','HT7A61A00452','HT8571A02153','FA7AR1A06690','FA81S1A02788','FA81T1A00545','FA7BS1A01242','FA7AR1A00090','HT8191A02068','FA8281A00672','FA8191A02532','HT7C61A04994','HT8191A00307','HT83M1A04115','FA79C1A03546','HT8221A01014','HT7BA1A00045','HT83G1A00014','FA7B81A02905','HT81A1A00339','FA81V1A00444','HT7B11A01104','HT8611A04012','HT7C61A06443','HT7B61A04709','FA7B11A05410','FA7AY1A03300','HT82C1A02048','HT81A1A02031']\n",
    "os.system('adb kill-server')\n",
    "os.system('adb start-server')\n",
    "os.system('adb devices')"
   ]
  },
  {
   "cell_type": "code",
   "execution_count": 142,
   "metadata": {},
   "outputs": [],
   "source": [
    "# Python初始化\n",
    "\n",
    "import os\n",
    "import re\n",
    "import subprocess\n",
    "import time\n",
    "from multiprocessing import Pool\n",
    "from queue import Queue\n",
    "\n",
    "def getResult(str, dev, isPrint = 0):\n",
    "    #生成命令\n",
    "    scmd = 'adb -s '+ dev + ' ' + str\n",
    "    if isPrint == 1:\n",
    "        print(scmd)\n",
    "\n",
    "    #获取结果\n",
    "    result = os.popen(scmd)\n",
    "    stdout = result.read()\n",
    "    return stdout\n",
    "\n",
    "def checkConnection(dev, recTime = 10):\n",
    "    command = 'adb -s '+ dev + ' ' + 'shell ping -c 2 -W 2 www.google.com'  # 具体命令\n",
    "\n",
    "    # 开始执行adb命令\n",
    "    p_obj = subprocess.Popen(\n",
    "            args=command,\n",
    "            stdin=None, stdout=subprocess.PIPE,\n",
    "            stderr=subprocess.PIPE, shell=True)\n",
    "    \n",
    "    time.sleep(recTime)\n",
    "    \n",
    "    flag = p_obj.poll()\n",
    "    p_obj.kill()\n",
    "\n",
    "    if flag == 0:\n",
    "        return 1\n",
    "    else:\n",
    "        return 0\n",
    "\n",
    "def connectVPN(dev, recTime = 10):\n",
    "    # 先杀死VPN和TT\n",
    "    getResult('shell am force-stop com.surfshark.vpnclient.android', dev)\n",
    "    getResult('shell am force-stop com.zhiliaoapp.musically', dev)\n",
    "\n",
    "    # 设置代理\n",
    "    getResult('shell settings put global http_proxy 192.168.1.188:7890', dev)\n",
    "\n",
    "    # 打开VPN\n",
    "    getResult('shell am start com.surfshark.vpnclient.android/.StartActivity', dev)\n",
    "    time.sleep(2)\n",
    "\n",
    "    # 连接VPN\n",
    "    getResult('shell input tap 535 1547', dev)\n",
    "\n",
    "    time.sleep(1)\n",
    "\n",
    "    # 尝试关掉提醒对话框\n",
    "    getResult('shell input tap 788 993', dev)\n",
    "\n",
    "    time.sleep(recTime-1)\n",
    "   \n",
    "    getResult('shell settings put global http_proxy :0', dev)\n",
    "\n",
    "def doAction(str, dev, delayTime = 0):\n",
    "    _command = 'adb -s '+ dev + ' ' + str\n",
    "    time.sleep(delayTime)\n",
    "    subprocess.Popen(_command, shell=True, stdout=subprocess.PIPE, stderr=subprocess.PIPE, encoding=\"utf-8\")"
   ]
  },
  {
   "cell_type": "code",
   "execution_count": 182,
   "metadata": {},
   "outputs": [
    {
     "name": "stdout",
     "output_type": "stream",
     "text": [
      "18 no found\n",
      "30 no found\n"
     ]
    }
   ],
   "source": [
    "#进行adb devices的全部设备连接检查\n",
    "\n",
    "result = os.popen('adb devices')\n",
    "stdout = result.read()\n",
    "\n",
    "flag = 0\n",
    "\n",
    "for i in range(1,31):\n",
    "    if devices[i] not in stdout:\n",
    "        print(i, \"no found\")\n",
    "        flag = 1\n",
    "\n",
    "if flag == 0:\n",
    "    print(\"all good\")\n"
   ]
  },
  {
   "cell_type": "code",
   "execution_count": 144,
   "metadata": {},
   "outputs": [
    {
     "name": "stderr",
     "output_type": "stream",
     "text": [
      "adb: device 'HT7BA1A00045' not found\n",
      "adb: device 'HT81A1A02031' not found\n"
     ]
    }
   ],
   "source": [
    "# 批量开关机并返回主页面\n",
    "\n",
    "isOpen = 1  # 1为开机，0为关机\n",
    "\n",
    "devicesPool = devices[1:31]\n",
    "\n",
    "for dev in devicesPool:\n",
    "    stdout = getResult('shell dumpsys window policy', dev)\n",
    "\n",
    "    if isOpen == 1:\n",
    "        if 'interactiveState=INTERACTIVE_STATE_SLEEP' in stdout:\n",
    "            doAction('shell input keyevent 26', dev)\n",
    "            \n",
    "        if 'showing=true' in stdout:\n",
    "            doAction('shell input keyevent 82', dev, 0.25)\n",
    "\n",
    "    else:\n",
    "        if 'interactiveState=INTERACTIVE_STATE_SLEEP' not in stdout:\n",
    "            doAction('shell input keyevent 26', dev)\n",
    "\n",
    "if isOpen == 1:\n",
    "    for dev in devicesPool:\n",
    "        doAction('shell input keyevent 3', dev)\n",
    "\n"
   ]
  },
  {
   "cell_type": "code",
   "execution_count": 181,
   "metadata": {},
   "outputs": [
    {
     "name": "stdout",
     "output_type": "stream",
     "text": [
      "开始检查设备1\n",
      "开始检查设备2\n",
      "开始检查设备3\n",
      "开始检查设备4\n",
      "开始检查设备5\n",
      "开始检查设备7\n",
      "开始检查设备6\n",
      "开始检查设备8\n",
      "开始检查设备9\n",
      "开始检查设备10\n",
      "设备1网络正常，打开SurfShark页面\n",
      "设备6网络正常，打开SurfShark页面\n",
      "设备2网络正常，打开SurfShark页面\n",
      "设备4网络正常，打开SurfShark页面\n",
      "设备3网络正常，打开SurfShark页面\n",
      "设备8网络正常，打开SurfShark页面\n",
      "设备5网络正常，打开SurfShark页面\n",
      "设备7网络正常，打开SurfShark页面\n",
      "设备9无网络连接，第1次重连中... \n",
      "设备10无网络连接，第1次重连中... \n",
      "开始检查设备11\n",
      "开始检查设备12\n",
      "开始检查设备13\n",
      "开始检查设备14\n",
      "开始检查设备15\n",
      "开始检查设备16\n",
      "开始检查设备17\n",
      "开始检查设备18\n",
      "设备18 ADB未成功连接\n",
      "开始检查设备19\n",
      "设备11网络正常，打开SurfShark页面\n",
      "设备12网络正常，打开SurfShark页面\n",
      "设备13网络正常，打开SurfShark页面\n",
      "设备14无网络连接，第1次重连中... \n",
      "设备17网络正常，打开SurfShark页面\n",
      "设备15无网络连接，第1次重连中... \n",
      "设备16无网络连接，第1次重连中... \n",
      "开始检查设备20\n",
      "开始检查设备21\n",
      "开始检查设备22\n",
      "开始检查设备23\n",
      "设备19网络正常，打开SurfShark页面\n",
      "开始检查设备24\n",
      "设备20网络正常，打开SurfShark页面\n",
      "设备21网络正常，打开SurfShark页面\n",
      "设备22网络正常，打开SurfShark页面\n",
      "设备23网络正常，打开SurfShark页面\n",
      "开始检查设备25\n",
      "开始检查设备26\n",
      "开始检查设备27\n",
      "开始检查设备28\n",
      "设备24网络正常，打开SurfShark页面\n",
      "开始检查设备29\n",
      "设备9网络正常，打开SurfShark页面\n",
      "开始检查设备30\n",
      "设备10网络正常，打开SurfShark页面\n",
      "设备30 ADB未成功连接\n",
      "设备25无网络连接，第1次重连中... \n",
      "设备26网络正常，打开SurfShark页面\n",
      "设备27无网络连接，第1次重连中... \n",
      "设备28无网络连接，第1次重连中... \n",
      "设备29网络正常，打开SurfShark页面\n",
      "设备15网络正常，打开SurfShark页面\n",
      "设备16网络正常，打开SurfShark页面\n",
      "设备14网络正常，打开SurfShark页面\n",
      "设备25网络正常，打开SurfShark页面\n",
      "设备27网络正常，打开SurfShark页面\n",
      "设备28网络正常，打开SurfShark页面\n"
     ]
    }
   ],
   "source": [
    "#%%writefile test.py\n",
    "# 并发检测网络并打开VPN\n",
    "\n",
    "import os\n",
    "import re\n",
    "import subprocess\n",
    "import time\n",
    "from multiprocessing import Pool\n",
    "from queue import Queue\n",
    "import test\n",
    "\n",
    "devices = ['','FA8251A00744','FA7981A10296','HT7A61A00452','HT8571A02153','FA7AR1A06690','FA81S1A02788','FA81T1A00545','FA7BS1A01242','FA7AR1A00090','HT8191A02068','FA8281A00672','FA8191A02532','HT7C61A04994','HT8191A00307','HT83M1A04115','FA79C1A03546','HT8221A01014','HT7BA1A00045','HT83G1A00014','FA7B81A02905','HT81A1A00339','FA81V1A00444','HT7B11A01104','HT8611A04012','HT7C61A06443','HT7B61A04709','FA7B11A05410','FA7AY1A03300','HT82C1A02048','HT81A1A02031']\n",
    "\n",
    "def getResult(str, dev, isPrint = 0):\n",
    "    #生成命令\n",
    "    scmd = 'adb -s '+ dev + ' ' + str\n",
    "    if isPrint == 1:\n",
    "        print(scmd)\n",
    "\n",
    "    #获取结果\n",
    "    result = os.popen(scmd)\n",
    "    stdout = result.read()\n",
    "    return stdout\n",
    "\n",
    "def checkConnection(dev, recTime = 10):\n",
    "    command = 'adb -s '+ dev + ' ' + 'shell ping -c 2 -W 2 www.google.com'  # 具体命令\n",
    "\n",
    "    # 开始执行adb命令\n",
    "    p_obj = subprocess.Popen(\n",
    "            args=command,\n",
    "            stdin=None, stdout=subprocess.PIPE,\n",
    "            stderr=subprocess.PIPE, shell=True)\n",
    "\n",
    "    time.sleep(0.1)\n",
    "\n",
    "    if 1 == p_obj.poll():\n",
    "        return -1\n",
    "\n",
    "    time.sleep(recTime)\n",
    "    \n",
    "    flag = p_obj.poll()\n",
    "\n",
    "    p_obj.kill()\n",
    "    if flag == 0:\n",
    "        return 1\n",
    "    else:\n",
    "        return 0\n",
    "\n",
    "def connectVPN(dev, recTime = 10, isRepeat = 0):\n",
    "    # 先杀死VPN和TT\n",
    "    getResult('shell am force-stop com.surfshark.vpnclient.android', dev)\n",
    "    getResult('shell am force-stop com.zhiliaoapp.musically', dev)\n",
    "\n",
    "    # 设置代理\n",
    "    getResult('shell settings put global http_proxy 192.168.1.188:7890', dev)\n",
    "\n",
    "    # 打开VPN\n",
    "    getResult('shell am start com.surfshark.vpnclient.android/.StartActivity', dev)\n",
    "    time.sleep(2)\n",
    "\n",
    "    # 连接VPN\n",
    "    getResult('shell input tap 535 1547', dev)\n",
    "\n",
    "    time.sleep(1)\n",
    "\n",
    "    # 尝试关掉提醒对话框\n",
    "    getResult('shell input tap 788 993', dev)\n",
    "\n",
    "    if isRepeat == 1:\n",
    "        getResult('shell input tap 535 1547', dev)\n",
    "        time.sleep(0.5)\n",
    "        getResult('shell input tap 535 1147', dev)\n",
    "        time.sleep(0.5)\n",
    "        getResult('shell input tap 535 1547', dev)\n",
    "        time.sleep(1)\n",
    "\n",
    "    time.sleep(recTime-1)\n",
    "   \n",
    "    getResult('shell settings put global http_proxy :0', dev)\n",
    "\n",
    "def doVPN(dev):\n",
    "    print(\"开始检查设备\" + str(devices.index(dev)))\n",
    "    \n",
    "    tryTimes = 1\n",
    "    flag = 0\n",
    "\n",
    "    while(True):\n",
    "        flag = checkConnection(dev, tryTimes * 5 + 6)\n",
    "        if (flag != 0) or (tryTimes >= 4):\n",
    "            break\n",
    "        # 设备没有联网，立刻重连\n",
    "        print(\"设备{}无网络连接，第{}次重连中... \".format(devices.index(dev), tryTimes))\n",
    "        connectVPN(dev, tryTimes * 5 + 6, (tryTimes >= 2))\n",
    "        tryTimes = tryTimes + 1\n",
    "    \n",
    "    if flag == -1:\n",
    "        print(\"设备{} ADB未成功连接\".format(devices.index(dev)))\n",
    "    elif tryTimes <= 3:\n",
    "        # 设备正常联网\n",
    "        print(\"设备{}网络正常，打开SurfShark页面\".format(devices.index(dev)))\n",
    "        getResult('shell am start com.surfshark.vpnclient.android/.StartActivity', dev)\n",
    "    else:\n",
    "        # 设备未正常联网\n",
    "        print(\"设备{}未正常联网，返回主页面\".format(devices.index(dev)))\n",
    "        getResult('shell input keyevent 26', dev)\n",
    "\n",
    "if __name__ == '__main__':\n",
    "    pool = Pool()\n",
    "    res = pool.map(test.doVPN, devices[1:31])\n"
   ]
  },
  {
   "cell_type": "code",
   "execution_count": 136,
   "metadata": {},
   "outputs": [],
   "source": [
    "# 批量打开应用\n",
    "\n",
    "for dev in devices[1:31]:\n",
    "    # 打开VPN\n",
    "    #getResult('shell am start com.surfshark.vpnclient.android/.StartActivity', dev)\n",
    "\n",
    "    # 打开智云控\n",
    "    doAction('shell am start org.zhiyunkong.zhiyunkong/.ui.splash.SplashActivity', dev)\n",
    "\n",
    "    # 打开VPN\n",
    "    #getResult('shell am start com.surfshark.vpnclient.android/.StartActivity', dev)\n",
    "\n"
   ]
  },
  {
   "cell_type": "code",
   "execution_count": 137,
   "metadata": {},
   "outputs": [],
   "source": [
    "# 批量返回主页面\n",
    "\n",
    "for dev in devices[1:31]:\n",
    "   doAction('shell input keyevent 3', dev)"
   ]
  },
  {
   "cell_type": "code",
   "execution_count": 139,
   "metadata": {},
   "outputs": [
    {
     "name": "stderr",
     "output_type": "stream",
     "text": [
      "adb: device 'HT7BA1A00045' not found\n",
      "adb: device 'HT81A1A02031' not found\n"
     ]
    }
   ],
   "source": [
    "# 设置代理\n",
    "\n",
    "for dev in devices[1:31]:\n",
    "   # 开启\n",
    "   #getResult('shell settings put global http_proxy 192.168.1.188:7890', dev)\n",
    "\n",
    "   # 关闭\n",
    "   doAction('shell settings put global http_proxy :0', dev)"
   ]
  },
  {
   "cell_type": "code",
   "execution_count": 105,
   "metadata": {},
   "outputs": [
    {
     "name": "stdout",
     "output_type": "stream",
     "text": [
      "正在检查设备19: 有网络连接\n",
      "正在检查设备20: 有网络连接\n"
     ]
    }
   ],
   "source": [
    "# 网络——仅检查网络连接\n",
    "\n",
    "for dev in devices[19:21]:\n",
    "   print(\"正在检查设备\" + str(devices.index(dev)) + \":\", end=\"\")\n",
    "   \n",
    "   stdout = getResult('shell ping -c 3 -W 2 www.google.com', dev)\n",
    "\n",
    "   if 'received' not in stdout:\n",
    "      print(\" 没有网络连接\")\n",
    "   else:\n",
    "      print(\" 有网络连接\")\n"
   ]
  },
  {
   "cell_type": "code",
   "execution_count": 114,
   "metadata": {},
   "outputs": [],
   "source": [
    "# 安装应用\n",
    "\n",
    "for dev in devices[2:9]:\n",
    "   doAction('install /Users/calvert/Documents/Rockflow/TikTok/脚本/zhiyunkong112.apk', dev)"
   ]
  },
  {
   "cell_type": "code",
   "execution_count": null,
   "metadata": {},
   "outputs": [],
   "source": [
    "# 监听设备的Activity。需要利用Terminal\n",
    "\n",
    "for dev in devices[9:10]:\n",
    "    print('adb -s '+ dev + ' ' + 'logcat | grep ActivityTaskManager')"
   ]
  }
 ],
 "metadata": {
  "kernelspec": {
   "display_name": "Python 3.8.9 64-bit",
   "language": "python",
   "name": "python3"
  },
  "language_info": {
   "codemirror_mode": {
    "name": "ipython",
    "version": 3
   },
   "file_extension": ".py",
   "mimetype": "text/x-python",
   "name": "python",
   "nbconvert_exporter": "python",
   "pygments_lexer": "ipython3",
   "version": "3.8.9"
  },
  "orig_nbformat": 4,
  "vscode": {
   "interpreter": {
    "hash": "31f2aee4e71d21fbe5cf8b01ff0e069b9275f58929596ceb00d14d90e3e16cd6"
   }
  }
 },
 "nbformat": 4,
 "nbformat_minor": 2
}
